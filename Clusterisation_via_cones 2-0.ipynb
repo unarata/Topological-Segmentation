{
 "cells": [
  {
   "cell_type": "code",
   "execution_count": null,
   "metadata": {},
   "outputs": [],
   "source": [
    "#from pyimzml.ImzMLParser import ImzMLParser\n",
    "import time\n",
    "import matplotlib.pyplot as plt\n",
    "import numpy as np\n",
    "from IPython.display import display, HTML\n",
    "display(HTML(\"<style>.container { width:100% !important; }</style>\"))\n",
    "from math import cos, degrees, pi, log, radians, ceil\n",
    "from sklearn.metrics import pairwise_distances\n",
    "from sklearn.metrics.pairwise import pairwise_kernels\n",
    "%matplotlib notebook\n",
    "\n",
    "from matplotlib import colors as clr\n",
    "import matplotlib\n",
    "\n",
    "def new_nei_set(alpha, cols_bin, perc):\n",
    "    return np.flatnonzero(cols_bin[alpha]>perc)"
   ]
  },
  {
   "cell_type": "code",
   "execution_count": null,
   "metadata": {},
   "outputs": [],
   "source": [
    "cl=[(1.0,0.0,0.0,1),\n",
    "(1.0,1.0,0.0,1),\n",
    "(0.0,1.0,0.0,1),\n",
    "(0.0,1.0,1.0,1),\n",
    "(153/255,51/255,1.0,1),\n",
    "(1,51/255,1,1), (0.0,0.0, 1.0, 1), (1.0,0.0,1.0,1), (0.0,0.5,0.5,1), (192/255, 192/255,192/255,1) ]   "
   ]
  },
  {
   "cell_type": "markdown",
   "metadata": {},
   "source": [
    "## TOC:\n",
    "* [Calculation of optimal angles](#first-bullet)\n",
    "* [Greedy algorithm](#second-bullet)\n",
    "* [Preliminary segmentation](#third-bullet)\n",
    "* [Two sets](#fourth-bullet)\n",
    "* [Three sets](#fifth-bullet)"
   ]
  },
  {
   "cell_type": "code",
   "execution_count": null,
   "metadata": {},
   "outputs": [],
   "source": [
    "# It is supposed that the data is preprocessed according to the characteristics of the instrument and data acquisition parameters, then binned and put into the following variables \n",
    "# vv -- intensities\n",
    "# xx and yy -- coordinates in the the image"
   ]
  },
  {
   "cell_type": "markdown",
   "metadata": {},
   "source": [
    "# Calculation of optimal angles <a class=\"anchor\" id=\"first-bullet\"></a>"
   ]
  },
  {
   "cell_type": "code",
   "execution_count": null,
   "metadata": {},
   "outputs": [],
   "source": [
    "number0=len(vv)\n",
    "cols_bin=1-pairwise_distances(vv, vv, metric=\"cosine\")\n",
    "min_angle=np.arccos(np.sort(cols_bin, axis=None)[-number0-1])\n",
    "print(\"Minimal angle is \", min_angle, \" radian\")"
   ]
  },
  {
   "cell_type": "code",
   "execution_count": null,
   "metadata": {},
   "outputs": [],
   "source": [
    "%%time\n",
    "# alpha -- an array of densities, extr_phi -- an array of optimal angles\n",
    "#delta_phi=min_angle/10\n",
    "delta_phi=0.01\n",
    "print(int(ceil(1/delta_phi)))\n",
    "\n",
    "alpha1=[]\n",
    "extr_phi1=[]\n",
    "logx=np.array([degrees(i*delta_phi) for i in range(3, int(ceil(1/delta_phi)))])\n",
    "for i in range(number0):\n",
    "    if(i%10000==0):\n",
    "        print(i)\n",
    "    logy=np.array([(log(len(new_nei_set(i, cols_bin, cos(k*delta_phi)))))/log(k) for k in range (3, int(ceil(1/delta_phi)))], dtype=float)\n",
    "    alpha1.append(np.amax(logy))\n",
    "    extr_phi1.append(degrees((np.argmax(logy)+2)*delta_phi))\n",
    "alpha1=np.array(alpha1)\n",
    "extr_phi1=np.array(extr_phi1)"
   ]
  },
  {
   "cell_type": "code",
   "execution_count": null,
   "metadata": {},
   "outputs": [],
   "source": [
    "# Picture\n",
    "fig5, ax= plt.subplots(figsize=(8,8))\n",
    "ax.scatter(alpha1, extr_phi1, s=1)\n",
    "ax.set_xlabel(\"Density\")\n",
    "ax.set_ylabel(\"Max angle\")\n",
    "plt.show()"
   ]
  },
  {
   "cell_type": "code",
   "execution_count": null,
   "metadata": {},
   "outputs": [],
   "source": [
    "# Filtering the outliers\n",
    "z=np.flatnonzero(extr_phi1>45)\n",
    "print(\"The number of outliers is equal to \", len(z))\n",
    "ileft= np.array(list({j for j in range(number0)}.difference(set(z))))\n",
    "x=xx[ileft]\n",
    "y=yy[ileft]\n",
    "v=np.array([vv[ileft[i]] for i in range(len(ileft))])\n",
    "alpha=alpha1[ileft]\n",
    "extr_phi=extr_phi1[ileft]"
   ]
  },
  {
   "cell_type": "code",
   "execution_count": null,
   "metadata": {},
   "outputs": [],
   "source": [
    "# Recalculation CSM\n",
    "del(cols_bin)\n",
    "cols_bin=1-pairwise_distances(v, v, metric=\"cosine\")\n",
    "mincos=np.amin(cols_bin, axis=None)\n",
    "number=len(v)"
   ]
  },
  {
   "cell_type": "code",
   "execution_count": null,
   "metadata": {},
   "outputs": [],
   "source": [
    "# Clearing the variables\n",
    "del(xx)\n",
    "del(yy)\n",
    "del(vv)"
   ]
  },
  {
   "cell_type": "code",
   "execution_count": null,
   "metadata": {},
   "outputs": [],
   "source": [
    "# For future pictures\n",
    "extent = np.min(x), np.max(x), np.min(y), np.max(y)\n",
    "xgrid=np.arange(extent[0]-0.5, extent[1]+0.5, 1)\n",
    "ygrid=np.arange(extent[2]-0.5, extent[3]+0.5, 1)\n",
    "\n",
    "Z0=[[(0.0,0.0,0.0,1.0) for j in range(len(xgrid))] for i in range(len(ygrid))]"
   ]
  },
  {
   "cell_type": "markdown",
   "metadata": {},
   "source": [
    "# Greedy algorithm <a class=\"anchor\" id=\"second-bullet\"></a>"
   ]
  },
  {
   "cell_type": "code",
   "execution_count": null,
   "metadata": {},
   "outputs": [],
   "source": [
    "# This \"greedy\" algorithm chooses the \"best\" set at each step without redefining the previous ones. At the first step Take the angle phi corresponding to the maximal value of alpha.\n",
    "# The \"best\" set is defined in the following ways:\n",
    "# 1) (key=2)  Each cone has the apex angle chosen manually. (cosine is equal to cos_opt)\n",
    "#At every next step choose the biggest set among the cones with the apex angle phi not intersecting with all previous.\n",
    "# 2) (key=1) Each cone has the apex angle equal to the corresponding to extr_phi. \n",
    "#Choose the cone corresponding to the point with the biggest alpha, such that the set in the cone doesn't intersect with all previous."
   ]
  },
  {
   "cell_type": "code",
   "execution_count": null,
   "metadata": {},
   "outputs": [],
   "source": [
    "key=1 #different angles\n",
    "#key=2 #the same angle"
   ]
  },
  {
   "cell_type": "code",
   "execution_count": null,
   "metadata": {},
   "outputs": [],
   "source": [
    "mincos=np.amin(cols_bin, axis=None)\n",
    "num_opt=np.argmax(alpha)\n",
    "med_phi=np.median(extr_phi) #median angle among all extr_phi"
   ]
  },
  {
   "cell_type": "code",
   "execution_count": null,
   "metadata": {},
   "outputs": [],
   "source": [
    "# if key=2, choose one of the following\n",
    "#cos_opt=cos(radians(extr_phi[num_opt])) #the angle corresponding to the biggest alpha\n",
    "#cos_opt=cos(radians(np.median(extr_phi))) #median angle\n",
    "cos_opt=cos(np.arccos(mincos)/10) #max angle among all the pairwise angles/10"
   ]
  },
  {
   "cell_type": "code",
   "execution_count": null,
   "metadata": {},
   "outputs": [],
   "source": [
    "%%time\n",
    "# cone_matr -- is a matrix of 0 and 1: take the cone with the apex angle according to key (see above), \n",
    "# 0 in the cell (i,j) means that j-th point belongs to the i-th cone, 1 - otherwise\n",
    "# len_list -- the number of points in each cone\n",
    "len_list=np.zeros(number, dtype=int)\n",
    "cone_matr=np.ones((number, number), dtype=bool) \n",
    "        \n",
    "if(key==2):\n",
    "    for i in range(number):\n",
    "        temp=new_nei_set(i, cols_bin, cos_opt)\n",
    "        len_list[i]=len(temp)\n",
    "        for j in temp:\n",
    "            cone_matr[i][j]=0\n",
    "elif (key==1):\n",
    "    for i in range(number):\n",
    "        temp=new_nei_set(i, cols_bin, cos(radians(extr_phi[i])))\n",
    "        len_list[i]=len(temp)\n",
    "        for j in temp:\n",
    "            cone_matr[i][j]=0"
   ]
  },
  {
   "cell_type": "code",
   "execution_count": null,
   "metadata": {},
   "outputs": [],
   "source": [
    "%%time\n",
    "\n",
    "nums=np.array([num_opt])\n",
    "temp=np.prod(cone_matr.T[np.flatnonzero(cone_matr[num_opt]==0)], axis=0) # temporary set\n",
    "good_nums=np.flatnonzero(temp) #numbers of points left to consider\n",
    "\n",
    "while len(good_nums)>0:\n",
    "    if(key==1):\n",
    "        num_t=good_nums[np.argmax(alpha[good_nums])]\n",
    "    elif(key==2):\n",
    "        num_t=good_nums[np.argmax(len_list[good_nums])]\n",
    "    nums=np.append(nums, num_t)\n",
    "    temp=temp*np.prod(cone_matr.T[np.flatnonzero(cone_matr[num_t]==0)], axis=0)\n",
    "    good_nums=np.flatnonzero(temp)\n",
    "    if(len_list[num_t]==1): #don't consider the cones with 1 point inside, as any cone contains it's vertex\n",
    "        break"
   ]
  },
  {
   "cell_type": "code",
   "execution_count": null,
   "metadata": {
    "scrolled": true
   },
   "outputs": [],
   "source": [
    "# Picture of 9 biggest sets\n",
    "cols4=np.array([cl[-1] for i in range(number)])\n",
    "\n",
    "if(key==2):\n",
    "    for j in range(min(len(nums), 10)):\n",
    "        for i in new_nei_set(nums[j], cols_bin, cos_opt):\n",
    "            cols4[i]=cl[j]    \n",
    "elif (key==1):\n",
    "    for j in range(min(len(nums), 10)):\n",
    "        for i in new_nei_set(nums[j], cols_bin, cos(radians(extr_phi[nums[j]]))):\n",
    "            cols4[i]=cl[j]\n",
    "            \n",
    "Z2=Z0\n",
    "\n",
    "for i in range(len(x)):\n",
    "    Z2[extent[3]-y[i]][x[i]-extent[0]]=cols4[i]\n",
    "\n",
    "fig1 = plt.figure(figsize=(8,8), frameon=False)\n",
    "im1 = plt.imshow(Z2, extent=extent)\n",
    "plt.show()"
   ]
  },
  {
   "cell_type": "markdown",
   "metadata": {},
   "source": [
    "# Preliminary calculations <a class=\"anchor\" id=\"third-bullet\"></a>"
   ]
  },
  {
   "cell_type": "code",
   "execution_count": null,
   "metadata": {},
   "outputs": [],
   "source": [
    "# Type 0 in reg_num for the median angle for zero approximation, or 2 or 3 for Phi/4 and Phi/6 respectively.\n",
    "reg_num=0\n",
    "if(reg_num==0):\n",
    "    coneangle=cos(radians(np.median(extr_phi)))\n",
    "elif(reg_num>0):\n",
    "    coneangle=cos(np.arccos(mincos)/2/reg_num)\n",
    "else:\n",
    "    print(\"There is an error\")\n",
    "\n",
    "print(\"Maximal angle is \"+str(degrees(np.arccos(mincos)))+\" degrees\")\n",
    "print(\"Number of points in the image is \"+str(number))"
   ]
  },
  {
   "cell_type": "code",
   "execution_count": null,
   "metadata": {},
   "outputs": [],
   "source": [
    "%%time\n",
    "#arrofnei_new -- matrix number*number, Matrix of neighbours: if 1 then not neigbours, if 0 then are neighbours\n",
    "#arr_of_notnei -- matrix number*number, Matrix of not-neighbours of all the neighbours. If 1 then can be an axis of the other cone\n",
    "lenlist=np.zeros(number, dtype=int)\n",
    "arrofnei_new=np.ones((number, number), dtype=bool)\n",
    "for i in range(number):\n",
    "    nei_temp=new_nei_set(i, cols_bin, coneangle)\n",
    "    for j in nei_temp:\n",
    "        arrofnei_new[i][j]=0\n",
    "    lenlist[i]=len(nei_temp)\n",
    "arr_of_notnei=np.array([np.prod(arrofnei_new.T[np.flatnonzero(arrofnei_new[j]==0)], axis=0) for j in range(number)])  "
   ]
  },
  {
   "cell_type": "markdown",
   "metadata": {},
   "source": [
    "# Two sets <a class=\"anchor\" id=\"fourth-bullet\"></a>"
   ]
  },
  {
   "cell_type": "code",
   "execution_count": null,
   "metadata": {},
   "outputs": [],
   "source": [
    "%%time\n",
    "#Preliminary segmentation with angle = coneangle\n",
    "lentemp=0\n",
    "for i in range(number):\n",
    "    set0=np.flatnonzero(arr_of_notnei[i][i:])+i\n",
    "    if(len(set0)):\n",
    "        answ1=np.argmax(lenlist[set0])\n",
    "        answ2=set0[answ1]\n",
    "        if(lenlist[i]+lenlist[answ2]>lentemp):\n",
    "            bestnum1=i\n",
    "            bestnum2=answ2\n",
    "            lentemp=lenlist[i]+lenlist[answ2]\n",
    "arr_answ=np.array([bestnum1, bestnum2])"
   ]
  },
  {
   "cell_type": "code",
   "execution_count": null,
   "metadata": {
    "scrolled": true
   },
   "outputs": [],
   "source": [
    "#Picture for 2 sets\n",
    "cols7=np.array([cl[-1] for i in range(number)])\n",
    "fs1=np.flatnonzero(arrofnei_new[bestnum1]==0)\n",
    "fs2=np.flatnonzero(arrofnei_new[bestnum2]==0)\n",
    "for i in fs1: \n",
    "    cols7[i]=cl[1]\n",
    "for i in fs2:\n",
    "    cols7[i]=cl[0]\n",
    "\n",
    "\n",
    "Z2=Z0\n",
    "\n",
    "for i in range(len(x)):\n",
    "    Z2[int(extent[3]-y[i])][int(x[i]-extent[0])]=cols7[i]\n",
    "\n",
    "fig1 = plt.figure(figsize=(8,8), frameon=False)\n",
    "im1 = plt.imshow(Z2, extent=extent)\n",
    "plt.show() "
   ]
  },
  {
   "cell_type": "code",
   "execution_count": null,
   "metadata": {},
   "outputs": [],
   "source": [
    "%%time\n",
    "# set_of_sets -- matrix of dimensions num_of_reg*number, a 0 in (i,j) cell means that the j-th point belongs to i-th cone\n",
    "# phi_set -- the set of angles (will be needed to draw a picture)\n",
    "num_of_reg=2\n",
    "set_of_sets=arrofnei_new[arr_answ]\n",
    "phi_set=np.array([cos(radians(np.median(extr_phi[np.flatnonzero(set_of_sets[k-1]==0)])))  for k in range(num_of_reg)])\n",
    "\n",
    "new_lenlist=np.zeros(number, dtype=int)\n",
    "setlist=np.zeros((num_of_reg, number), dtype=bool) # 1 in the (i,j) cell means that the point j belongs to the i--th set\n",
    "nei_arr=np.ones((number, number), dtype=bool) # if i belongs to Set_j, then 0  at (i,k)-cell means that k-th point belongs to the cone with i as axis and phi_j as the apex angle \n",
    "#If i doesn't belong to any Set_j, then all the line consists of 1s only\n",
    "\n",
    "for k in range(num_of_reg):\n",
    "    Set_temp=np.flatnonzero(arrofnei_new[arr_answ[k]]==0) #Numbers of points in the Set_k\n",
    "    for i in (Set_temp):\n",
    "        setlist[k][i]=1\n",
    "        nei_temp=new_nei_set(i, cols_bin, phi_set[k])\n",
    "        for j in nei_temp:\n",
    "            nei_arr[i][j]=0\n",
    "        new_lenlist[i]=number-np.sum(nei_arr[i])"
   ]
  },
  {
   "cell_type": "code",
   "execution_count": null,
   "metadata": {},
   "outputs": [],
   "source": [
    "%%time\n",
    "not_nei_arr=np.array([np.prod(nei_arr.T[np.flatnonzero(nei_arr[j]==0)], axis=0) for j in range (number)], dtype=bool)"
   ]
  },
  {
   "cell_type": "code",
   "execution_count": null,
   "metadata": {},
   "outputs": [],
   "source": [
    "%%time\n",
    "# Two sets refined\n",
    "set0=np.flatnonzero(setlist[0]) #numbers of points in Set_1\n",
    "fin_ans=np.zeros(2, int)\n",
    "jlen=0\n",
    "for i in set0:\n",
    "    set1=np.flatnonzero(not_nei_arr[i]*setlist[1]) #numbers of those having no neighbours with i-th and belonging to the Set_2\n",
    "    if(len(set1)):\n",
    "        answ1=np.argmax(new_lenlist[set1])\n",
    "        answ2=set1[answ1]\n",
    "        if(new_lenlist[answ2]+new_lenlist[i]>jlen): \n",
    "            fin_ans[0]=i\n",
    "            fin_ans[1]=answ2\n",
    "            jlen=new_lenlist[answ2]+new_lenlist[i]"
   ]
  },
  {
   "cell_type": "code",
   "execution_count": null,
   "metadata": {},
   "outputs": [],
   "source": [
    "final_set1=np.flatnonzero(nei_arr[fin_ans[0]]==0)\n",
    "final_set2=np.flatnonzero(nei_arr[fin_ans[1]]==0)"
   ]
  },
  {
   "cell_type": "code",
   "execution_count": null,
   "metadata": {},
   "outputs": [],
   "source": [
    "#Picture for 2 sets\n",
    "cols6=np.array([cl[-1] for i in range(number)])\n",
    "for i in final_set1: \n",
    "    cols6[i]=cl[1]\n",
    "for i in final_set2:\n",
    "    cols6[i]=cl[0]\n",
    "\n",
    "\n",
    "Z2=Z0\n",
    "\n",
    "for i in range(len(x)):\n",
    "    \n",
    "    Z2[int(extent[3]-y[i])][int(x[i]-extent[0])]=cols6[i]\n",
    "\n",
    "fig1 = plt.figure(figsize=(8,8), frameon=False)\n",
    "im1 = plt.imshow(Z2, extent=extent)\n",
    "plt.show() "
   ]
  },
  {
   "cell_type": "markdown",
   "metadata": {},
   "source": [
    "# Three sets <a class=\"anchor\" id=\"fifth-bullet\"></a>"
   ]
  },
  {
   "cell_type": "code",
   "execution_count": null,
   "metadata": {},
   "outputs": [],
   "source": [
    "%%time\n",
    "#Preliminary segmentation with angle = coneangle\n",
    "lentemp=0\n",
    "for i in range(number):\n",
    "    set0=np.flatnonzero(arr_of_notnei[i][i:])+i\n",
    "    for j in set0:\n",
    "        set1=np.flatnonzero((arr_of_notnei[i]*arr_of_notnei[j])[j:])+j            \n",
    "        if(len(set1)):\n",
    "            answ1=np.argmax(lenlist[set1])\n",
    "            answ2=set1[answ1]\n",
    "            if(lenlist[i]+lenlist[j]+lenlist[answ2]>lentemp):\n",
    "                bestnum1=i\n",
    "                bestnum2=j\n",
    "                bestnum3=answ2\n",
    "                lentemp=lenlist[i]+lenlist[j]+lenlist[answ2]\n",
    "arr_answ=np.array([bestnum1, bestnum2, bestnum3])"
   ]
  },
  {
   "cell_type": "code",
   "execution_count": null,
   "metadata": {},
   "outputs": [],
   "source": [
    "%%time\n",
    "# set_of_sets -- matrix of dimensions num_of_reg*number, a 0 in (i,j) cell means that the j-th point belongs to i-th cone\n",
    "# phi_set -- the set of angles (will be needed to draw a picture)\n",
    "num_of_reg=3\n",
    "set_of_sets=arrofnei_new[arr_answ]\n",
    "phi_set=np.array([cos(radians(np.median(extr_phi[np.flatnonzero(set_of_sets[k-1]==0)])))  for k in range(num_of_reg)])\n",
    "\n",
    "new_lenlist=np.zeros(number, dtype=int)\n",
    "setlist=np.zeros((num_of_reg, number), dtype=bool) # 1 in the (i,j) cell means that the point j belongs to the i--th set\n",
    "nei_arr=np.ones((number, number), dtype=bool) # if i belongs to Set_j, the in the i-th line then 0 in (i,) means that k-th point belongs to the cone with i as axis and phi_j as the apex angle \n",
    "#If i doesn't belong to any Set_j, then all the line consists of 1s only\n",
    "\n",
    "for k in range(num_of_reg):\n",
    "    Set_temp=np.flatnonzero(arrofnei_new[arr_answ[k]]==0) #Numbers of points in the Set_k\n",
    "    for i in (Set_temp):\n",
    "        setlist[k][i]=1\n",
    "        nei_temp=new_nei_set(i, cols_bin, phi_set[k])\n",
    "        for j in nei_temp:\n",
    "            nei_arr[i][j]=0\n",
    "        new_lenlist[i]=number-np.sum(nei_arr[i])"
   ]
  },
  {
   "cell_type": "code",
   "execution_count": null,
   "metadata": {},
   "outputs": [],
   "source": [
    "%%time\n",
    "not_nei_arr=np.array([np.prod(nei_arr.T[np.flatnonzero(nei_arr[j]==0)], axis=0) for j in range (number)], dtype=bool)"
   ]
  },
  {
   "cell_type": "code",
   "execution_count": null,
   "metadata": {
    "scrolled": false
   },
   "outputs": [],
   "source": [
    "%%time\n",
    "# Three sets refined\n",
    "fin_ans3=np.zeros(3, int)\n",
    "set0=np.flatnonzero(setlist[0])\n",
    "jlen=0\n",
    "for i in set0:\n",
    "    set1=np.flatnonzero(not_nei_arr[i]*setlist[1])\n",
    "    for j in set1:\n",
    "        set2=np.flatnonzero(not_nei_arr[j]*not_nei_arr[i]*setlist[2]) #having no neighbours with ith and with j-th and belonging to the Set_3\n",
    "        if(len(set2)):\n",
    "            answ1=np.argmax(new_lenlist[set2])\n",
    "            answ2=set2[answ1]\n",
    "            if(new_lenlist[answ2]+new_lenlist[i]+new_lenlist[j]>jlen):\n",
    "                fin_ans3[0]=i\n",
    "                fin_ans3[1]=j\n",
    "                fin_ans3[2]=answ2    \n",
    "                jlen=new_lenlist[answ2]+new_lenlist[i]+new_lenlist[j]"
   ]
  },
  {
   "cell_type": "code",
   "execution_count": null,
   "metadata": {},
   "outputs": [],
   "source": [
    "final_set1=np.flatnonzero(nei_arr[fin_ans3[0]]==0)\n",
    "final_set2=np.flatnonzero(nei_arr[fin_ans3[1]]==0)\n",
    "final_set3=np.flatnonzero(nei_arr[fin_ans3[2]]==0)"
   ]
  },
  {
   "cell_type": "code",
   "execution_count": null,
   "metadata": {
    "scrolled": true
   },
   "outputs": [],
   "source": [
    "#Picture for three sets\n",
    "cols5=np.array([cl[-1] for i in range(number)])\n",
    "for i in final_set1: \n",
    "    cols5[i]=cl[0]\n",
    "for i in final_set2:\n",
    "    cols5[i]=cl[1]\n",
    "for i in final_set3:\n",
    "    cols5[i]=cl[2]\n",
    "\n",
    "Z2=Z0\n",
    "\n",
    "for i in range(len(x)):\n",
    "   Z2[int(extent[3]-y[i])][int(x[i]-extent[0])]=cols5[i]\n",
    "\n",
    "fig1 = plt.figure(figsize=(8,8), frameon=False)\n",
    "im1 = plt.imshow(Z2, extent=extent)\n",
    "plt.show() "
   ]
  }
 ],
 "metadata": {
  "kernelspec": {
   "display_name": "Python 3 (ipykernel)",
   "language": "python",
   "name": "python3"
  },
  "language_info": {
   "codemirror_mode": {
    "name": "ipython",
    "version": 3
   },
   "file_extension": ".py",
   "mimetype": "text/x-python",
   "name": "python",
   "nbconvert_exporter": "python",
   "pygments_lexer": "ipython3",
   "version": "3.7.16"
  }
 },
 "nbformat": 4,
 "nbformat_minor": 4
}
